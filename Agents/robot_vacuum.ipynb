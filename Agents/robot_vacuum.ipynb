{
 "cells": [
  {
   "cell_type": "code",
   "execution_count": 2,
   "metadata": {
    "pycharm": {
     "name": "#%%\n"
    }
   },
   "outputs": [],
   "source": [
    "import numpy as np\n",
    "# use: conda install -c conda-forge matplotlib -y\n",
    "# to install a new library\n",
    "# matchTheBeat_\n",
    "\n",
    "actions = [\"north\", \"east\", \"west\", \"south\", \"suck\"]\n",
    "\n",
    "def simple_randomized_agent(bumpers, dirty):\n",
    "    return np.random.choice(actions)"
   ]
  },
  {
   "cell_type": "code",
   "execution_count": 3,
   "metadata": {
    "pycharm": {
     "name": "#%%\n"
    }
   },
   "outputs": [
    {
     "data": {
      "text/plain": "'north'"
     },
     "execution_count": 3,
     "metadata": {},
     "output_type": "execute_result"
    }
   ],
   "source": [
    "# define percepts (current location is NW corner and it is dirty)\n",
    "bumper = {\"north\" : True, \"east\" : False, \"south\" : False, \"west\" : True}\n",
    "dirty1 = True\n",
    "\n",
    "# call agent program function with percepts, and it returns an action\n",
    "simple_randomized_agent(bumper, dirty1)"
   ]
  },
  {
   "cell_type": "markdown",
   "metadata": {
    "pycharm": {
     "name": "#%% md\n"
    }
   },
   "source": [
    "__Note:__ This is not a rational intelligent agent. It ignores its sensors and may bump into a wall repeatedly or not clean a dirty square. You will be asked to implement rational agents below."
   ]
  },
  {
   "cell_type": "markdown",
   "metadata": {
    "pycharm": {
     "name": "#%% md\n"
    }
   },
   "source": [
    "## Simple environment example\n",
    "\n",
    "We implement a simple simulation environment that supplies the agent with its percepts.\n",
    "The simple environment is infinite in size (bumpers are always `False`) and every square is always dirty, even if the agent cleans it. The environment function returns a performance measure which is here the number of cleaned squares (since the room is infinite and all squares are constantly dirty, the agent can never clean the whole room as required in the PEAS description above). The energy budget of the agent is specified as `max_steps`. "
   ]
  },
  {
   "cell_type": "code",
   "execution_count": 4,
   "metadata": {
    "pycharm": {
     "name": "#%%\n"
    }
   },
   "outputs": [],
   "source": [
    "def simple_environment(agent, max_steps, verbose = True):\n",
    "    num_cleaned = 0\n",
    "    \n",
    "    for i in range(max_steps):\n",
    "        dirty = True\n",
    "        bumpers = {\"north\" : False, \"south\" : False, \"west\" : False, \"east\" : False}\n",
    "\n",
    "        action = agent(bumpers, dirty)\n",
    "        if (verbose): print(\"step\", i , \"- action:\", action) \n",
    "        \n",
    "        if (action == \"suck\"): \n",
    "            num_cleaned = num_cleaned + 1\n",
    "        \n",
    "    return num_cleaned\n",
    "        \n"
   ]
  },
  {
   "cell_type": "markdown",
   "metadata": {
    "pycharm": {
     "name": "#%% md\n"
    }
   },
   "source": [
    "Do one simulation run with a simple randomized agent that has enough energy for 20 steps."
   ]
  },
  {
   "cell_type": "code",
   "execution_count": 5,
   "metadata": {
    "pycharm": {
     "name": "#%%\n"
    }
   },
   "outputs": [
    {
     "name": "stdout",
     "output_type": "stream",
     "text": [
      "step 0 - action: west\n",
      "step 1 - action: east\n",
      "step 2 - action: suck\n",
      "step 3 - action: east\n",
      "step 4 - action: south\n",
      "step 5 - action: north\n",
      "step 6 - action: suck\n",
      "step 7 - action: north\n",
      "step 8 - action: west\n",
      "step 9 - action: west\n",
      "step 10 - action: south\n",
      "step 11 - action: east\n",
      "step 12 - action: east\n",
      "step 13 - action: south\n",
      "step 14 - action: south\n",
      "step 15 - action: north\n",
      "step 16 - action: suck\n",
      "step 17 - action: west\n",
      "step 18 - action: south\n",
      "step 19 - action: suck\n"
     ]
    },
    {
     "data": {
      "text/plain": "4"
     },
     "execution_count": 5,
     "metadata": {},
     "output_type": "execute_result"
    }
   ],
   "source": [
    "simple_environment(simple_randomized_agent, max_steps = 20)"
   ]
  },
  {
   "cell_type": "markdown",
   "metadata": {
    "pycharm": {
     "name": "#%% md\n"
    }
   },
   "source": [
    "# Tasks\n",
    "\n",
    "## General [10 Points]\n",
    "\n",
    "1. Make sure that you use the latest version of this notebook. Sync your forked repository and pull the latest revision. \n",
    "2. Your implementation can use libraries like math, numpy, scipy, but not libraries that implement inteligent agents or complete search algorithms. Try to keep the code simple! In this course, we want to learn about the algorithms and we often do not need to use object-oriented design.\n",
    "3. You notebook needs to be formated professionally. \n",
    "    - Add additional markdown blocks for your description, comments in the code, add tables and use mathplotlib to produce charts where appropriate\n",
    "    - Do not show debugging output or include an excessive amount of output.\n",
    "    - Check that your PDF file is readable. For example, long lines are cut off in the PDF file. You don't have control over page breaks, so do not worry about these.\n",
    "4. Document your code. Add a short discussion of how your implementation works and your design choices.\n",
    "\n",
    "\n",
    "## Task 1: Implement a simulation environment [20 Points]\n",
    "\n",
    "The simple environment above is not very realistic. Your environment simulator needs to follow the PEAS description from above. It needs to:\n",
    "\n",
    "* Initialize the environment by storing the state of each square (clean/dirty) and making some dirty. ([Help with random numbers and arrays in Python](https://github.com/mhahsler/CS7320-AI/blob/master/Python_Code_Examples/random_numbers_and_arrays.ipynb))\n",
    "* Keep track of the agent's position.\n",
    "* Call the agent function repeatedly and provide the agent function with the sensor inputs.  \n",
    "* React to the agent's actions. E.g, by removing dirt from a square or moving the agent around unless there is a wall in the way.\n",
    "* Keep track of the performance measure. That is, track the agent's actions until all dirty squares are clean and count the number of actions it takes the agent to complete the task.\n",
    "\n",
    "The easiest implementation for the environment is to hold an 2-dimensional array to represent if squares are clean or dirty and to call the agent function in a loop until all squares are clean or a predefined number of steps have been reached (i.e., the robot runs out of energy).\n",
    "\n",
    "The simulation environment should be a function like the `simple_environment()` and needs to work with the simple randomized agent program from above. **Use the same environmnt for all your agent implementations in the tasks below.**\n",
    "\n",
    "*Note on debugging:* Debugging is difficult. Make sure your environment prints enough information when you use `verbose = True`. Also, implementing a function that the environment can use to displays the room with dirt and the current position of the robot at every step is very useful.  "
   ]
  },
  {
   "cell_type": "code",
   "execution_count": 6,
   "metadata": {
    "pycharm": {
     "name": "#%%\n"
    }
   },
   "outputs": [],
   "source": [
    "import random\n",
    "\n",
    "class Tile: # Tile object, n*n will exist and will keep track of dif variables\n",
    "    def __init__(self, position, dirty, object, robot):\n",
    "        self.position = position\n",
    "        self.dirty = dirty\n",
    "        self.object = object\n",
    "        self.hasRobot = robot\n",
    "\n",
    "\n",
    "def environment(agent, max_steps, roomSize, verbose = True):\n",
    "    num_cleaned = 0\n",
    "    total_steps = 0\n",
    "    total_dirty = 0\n",
    "    room = []\n",
    "    for i in range (0, roomSize*roomSize): # Creates the room and initializes all the dirty tiles\n",
    "        dirt = np.random.choice([True, False], p=[0.2, 0.8])\n",
    "        if dirt: total_dirty += 1\n",
    "        room.append( Tile(i, dirt, False, False) )\n",
    "\n",
    "    # initialize the agents position\n",
    "    position = random.randint(0, roomSize*roomSize-1) # position is just a #, but can reference tile obj array\n",
    "    room[position].hasRobot = True # update the room itself\n",
    "\n",
    "    for i in range(max_steps):\n",
    "\n",
    "        if total_dirty == 0: return total_steps # early breaking condition\n",
    "\n",
    "        bumpers = {\"north\" : False, \"south\" : False, \"west\" : False, \"east\" : False}\n",
    "        if 0 <= position < roomSize: bumpers['north'] = True # update the bumper according to position\n",
    "        if position%roomSize == 0: bumpers['west'] = True # complicated but it works trust me\n",
    "        if position%roomSize - (roomSize-1) == 0: bumpers['east'] = True\n",
    "        if ((roomSize*roomSize) - roomSize) <= position < roomSize*roomSize: bumpers['south'] = True\n",
    "\n",
    "        action = agent(bumpers, room[position].dirty)\n",
    "        if verbose: print(\"step\", i, \"- action:\", action, \"at position: \", position)\n",
    "\n",
    "        # I forgot to check if the tile was actually dirty in the first place.\n",
    "        #  Random was outperforming by so much. because it wasnt actually cleaning\n",
    "        if action == \"suck\":\n",
    "            if room[position].dirty:\n",
    "                num_cleaned += 1\n",
    "                total_dirty -= 1\n",
    "                room[position].dirty = False\n",
    "\n",
    "        if action == \"north\":\n",
    "            if not bumpers['north']:\n",
    "                room[position].hasRobot = False\n",
    "                position -=roomSize # going 'up' means the index is changed by n in a 1D array\n",
    "                room[position].hasRobot = True\n",
    "\n",
    "        elif action == \"east\":\n",
    "            if not bumpers['east']:\n",
    "                room[position].hasRobot = False\n",
    "                position +=1\n",
    "                room[position].hasRobot = True\n",
    "\n",
    "        elif action == \"west\":\n",
    "            if not bumpers['west']:\n",
    "                room[position].hasRobot = False\n",
    "                position -=1\n",
    "                room[position].hasRobot = True\n",
    "\n",
    "        elif action == \"south\":\n",
    "            if not bumpers['south']:\n",
    "                room[position].hasRobot = False\n",
    "                position +=roomSize\n",
    "                room[position].hasRobot = True\n",
    "\n",
    "        total_steps += 1\n",
    "\n",
    "    return total_steps\n"
   ]
  },
  {
   "cell_type": "markdown",
   "metadata": {
    "pycharm": {
     "name": "#%% md\n"
    }
   },
   "source": [
    "## Task 2:  Implement a simple reflex agent [10 Points] \n",
    "\n",
    "The simple reflex agent randomly walks around but reacts to the bumper sensor by not bumping into the wall and to dirt with sucking. Implement the agent program as a function.\n",
    "\n",
    "_Note:_ Agents cannot directly use variable in the environment. They only gets the percepts as the arguments to the agent function."
   ]
  },
  {
   "cell_type": "code",
   "execution_count": 7,
   "metadata": {
    "pycharm": {
     "name": "#%%\n"
    }
   },
   "outputs": [
    {
     "data": {
      "text/plain": "246"
     },
     "execution_count": 7,
     "metadata": {},
     "output_type": "execute_result"
    }
   ],
   "source": [
    "def reflex_agent(bumpers, dirty):\n",
    "    if dirty: return \"suck\"\n",
    "    # if any of the bump sensors are true, move in opposite direction\n",
    "    elif bumpers[\"north\"]: return \"south\"\n",
    "    elif bumpers[\"east\"]: return \"west\"\n",
    "    elif bumpers[\"west\"]: return \"east\"\n",
    "    elif bumpers[\"south\"]: return \"north\"\n",
    "\n",
    "    # Ideally would want it to one direction, then straight line to another wall but that requires internal state\n",
    "    actions_reflex = [\"north\", \"east\", \"west\", \"south\"]\n",
    "    return np.random.choice(actions_reflex)\n",
    "\n",
    "environment(reflex_agent, 10000, 6, False)"
   ]
  },
  {
   "cell_type": "code",
   "execution_count": 8,
   "metadata": {
    "pycharm": {
     "name": "#%%\n"
    }
   },
   "outputs": [
    {
     "data": {
      "text/plain": "355"
     },
     "execution_count": 8,
     "metadata": {},
     "output_type": "execute_result"
    }
   ],
   "source": [
    "environment(simple_randomized_agent, 10000, 5, False)"
   ]
  },
  {
   "cell_type": "markdown",
   "metadata": {
    "pycharm": {
     "name": "#%% md\n"
    }
   },
   "source": [
    "## Task 3: Implement a model-based reflex agent [20 Points]\n",
    "\n",
    "Model-based agents use a state to keep track of what they have done and perceived so far. Your agent needs to find out where it is located and then keep track of its current location. You also need a set of rules based on the state and the percepts to make sure that the agent will clean the whole room. For example, the agent can move to a corner to determine its location and then it can navigate through the whole room and clean dirty squares.\n",
    "\n",
    "Describe how you define the __agent state__ and how your agent works before implementing it. ([Help with implementing state information on Python](https://github.com/mhahsler/CS7320-AI/blob/master/Python_Code_Examples/store_agent_state_information.ipynb))"
   ]
  },
  {
   "cell_type": "markdown",
   "metadata": {
    "pycharm": {
     "name": "#%% md\n"
    }
   },
   "source": [
    "The first implementation determines its location by going to the NE and SW corner of the room. It keeps track of how many tiles it crosses and after getting the length and width, is able to determine location. During and after orienting itself, the agent also keeps track of each position it has already visited in order to not visit it again.\n",
    "\n",
    "The second agent has fewer internal states to keep track of, and just tries to clean the room in an up and down, left then right fashion. By keeping track of the direction it is heading, it can determine whether it should continue to go up or down. Keeping track of the total west movement also allows it to go east once the left side of the floor is cleaned."
   ]
  },
  {
   "cell_type": "code",
   "execution_count": 9,
   "metadata": {
    "pycharm": {
     "name": "#%%\n"
    }
   },
   "outputs": [],
   "source": [
    "class ModelReflexAgent:\n",
    "    def __init__(self, name, position = 0):\n",
    "        self.name = name\n",
    "        self.position = position\n",
    "        self.past_states = []\n",
    "        self.xMoves = 0\n",
    "        self.yMoves = 0\n",
    "        self.xLength = 0\n",
    "        self.yLength = 0\n",
    "        self.orientated = False\n",
    "        self.northOrient = False\n",
    "        self.westOrient = False\n",
    "        self.direction = 'N'\n",
    "\n",
    "    def act(self, bumpers, dirty):\n",
    "        if not self.orientated: # hate that you have to type not instead of !\n",
    "            if dirty: return \"suck\"\n",
    "            if not bumpers[\"north\"] and not self.northOrient: # goes north until it hits wall\n",
    "                self.yMoves += 1\n",
    "                return \"north\"\n",
    "            self.northOrient = True\n",
    "            if not bumpers[\"west\"] and not self.westOrient: # goes east until it hits wall\n",
    "                self.xMoves+=1\n",
    "                return \"west\"\n",
    "            # the agent should be in NW corner now\n",
    "            if not self.westOrient:\n",
    "                for i in range(0,self.xMoves+1): self.past_states.append(i) #add moves needed to get to corner\n",
    "            self.westOrient = True\n",
    "            if not bumpers[\"south\"]: # if hasn't reached SW corner\n",
    "                self.yLength += 1\n",
    "                return \"south\"\n",
    "            if not bumpers[\"east\"]: # if hasnt reached SE corner\n",
    "                self.xLength +=1\n",
    "                return \"east\"\n",
    "            # the agent has reached SE corner\n",
    "            self.yLength += 1 # needed to make it accurate\n",
    "            self.xLength += 1\n",
    "            for i in range(0,self.yMoves+1): self.past_states.append((i * self.xLength) + self.xMoves)\n",
    "            for i in range(1,self.yLength): self.past_states.append(i * self.yLength)\n",
    "            for i in range(self.yLength * self.xLength - self.xLength + 1, self.yLength * self.xLength):\n",
    "                self.past_states.append(i)\n",
    "            # print(self.past_states) # usefull for debugging\n",
    "            self.position = self.yLength * self.xLength - 1 - self.xLength\n",
    "            self.orientated = True\n",
    "            return \"north\"\n",
    "        else:\n",
    "            if dirty: return \"suck\"\n",
    "            if self.direction == 'N':\n",
    "                # checks if a move N has been done before and is not hitting a wall\n",
    "                if self.position - self.xLength not in self.past_states and not bumpers['north'] :\n",
    "                    self.position -= self.xLength\n",
    "                    self.past_states.append(self.position)\n",
    "                    return \"north\"\n",
    "                else:\n",
    "                    self.position -= 1\n",
    "                    self.direction = 'W'\n",
    "                    self.past_states.append(self.position)\n",
    "                    return \"west\"\n",
    "            if self.direction == 'W':\n",
    "                # checks if a move S has been done\n",
    "                if self.position + self.xLength in self.past_states and not bumpers['west']:\n",
    "                    self.position -= 1 # moves one farther W\n",
    "                    self.past_states.append(self.position)\n",
    "                    return \"west\"\n",
    "                elif self.position - self.xLength not in self.past_states and not bumpers['north']:\n",
    "                    self.position -= self.xLength\n",
    "                    self.direction = 'N'\n",
    "                    self.past_states.append(self.position)\n",
    "                    return \"north\"\n",
    "                elif self.position + self.xLength not in self.past_states and not bumpers['south']:\n",
    "                    self.position += self.xLength\n",
    "                    self.direction = 'S'\n",
    "                    self.past_states.append(self.position)\n",
    "                    return \"south\"\n",
    "                else:\n",
    "                    self.position += 1\n",
    "                    self.direction = 'E'\n",
    "                    self.past_states.append(self.position)\n",
    "                    return \"east\"\n",
    "\n",
    "            if self.direction == 'S':\n",
    "                # checks if a move S has been done\n",
    "                if self.position + self.xLength not in self.past_states and not bumpers['south']:\n",
    "                    self.position += self.xLength\n",
    "                    self.past_states.append(self.position)\n",
    "                    return \"south\"\n",
    "                else:\n",
    "                    self.position -= 1\n",
    "                    self.direction = 'W'\n",
    "                    self.past_states.append(self.position)\n",
    "                    return \"west\"\n",
    "            if self.direction == 'E':\n",
    "                if self.position + self.xLength not in self.past_states and not bumpers['south']:\n",
    "                    self.position += self.xLength\n",
    "                    self.past_states.append(self.position)\n",
    "                    return \"south\"\n",
    "                if self.position - self.xLength not in self.past_states and not bumpers['north']:\n",
    "                    self.position -= self.xLength\n",
    "                    self.past_states.append(self.position)\n",
    "                    return \"north\"\n",
    "                else:\n",
    "                    self.position += 1\n",
    "                    self.direction = 'E'\n",
    "                    self.past_states.append(self.position)\n",
    "                    return \"east\""
   ]
  },
  {
   "cell_type": "code",
   "execution_count": 10,
   "metadata": {
    "pycharm": {
     "name": "#%%\n"
    }
   },
   "outputs": [],
   "source": [
    "# I made this entire other agent because I thought random was outperforming my agent. It wasn't and my enviroment\n",
    "# was wrong. But at least this one is simpler and performs well\n",
    "class ModelReflexAgent2:\n",
    "    def __init__(self, name, position = 0):\n",
    "        self.name = name\n",
    "        self.xMoves = 0\n",
    "        self.step = False\n",
    "        self.direction = 'N'\n",
    "\n",
    "    def act(self, bumpers, dirty):\n",
    "        if dirty : return \"suck\"\n",
    "\n",
    "        if not bumpers[\"north\"] and self.direction =='N':\n",
    "            return \"north\"\n",
    "        elif not bumpers[\"south\"] and self.direction =='S':\n",
    "            return \"south\"\n",
    "        elif bumpers[\"north\"] and self.direction =='N' and not bumpers[\"west\"] and self.xMoves != -1:\n",
    "            self.direction = 'W'\n",
    "            self.xMoves += 1\n",
    "            return \"west\"\n",
    "        elif bumpers[\"south\"] and self.direction =='S' and not bumpers[\"west\"] and self.xMoves != -1:\n",
    "            self.direction = 'W'\n",
    "            self.xMoves += 1\n",
    "            return \"west\"\n",
    "        elif bumpers[\"south\"] and self.direction =='S' and self.xMoves == -1:# only happen after all west tiles\n",
    "            self.direction = 'N'\n",
    "            return \"east\"\n",
    "        elif bumpers[\"north\"] and self.direction =='N' and self.xMoves == -1: # happens only after has gone west\n",
    "            self.direction = 'S'\n",
    "            return \"east\"\n",
    "        elif self.direction == 'W':\n",
    "            if bumpers[\"north\"]:\n",
    "                self.direction = 'S'\n",
    "                return \"south\"\n",
    "            elif bumpers[\"south\"]:\n",
    "                self.direction = 'N'\n",
    "                return \"north\"\n",
    "        elif bumpers[\"west\"] or self.direction == 'E':\n",
    "            self.direction = 'E'\n",
    "            if self.xMoves != -1: # has to go over all the moves + 1 to get to new area\n",
    "                self.xMoves -= 1\n",
    "                return \"east\"\n",
    "            else:\n",
    "                if bumpers[\"north\"]:\n",
    "                    self.direction = 'S'\n",
    "                    return \"south\"\n",
    "                elif bumpers[\"south\"]:\n",
    "                    self.direction = 'N'\n",
    "                    return \"north\"\n"
   ]
  },
  {
   "cell_type": "code",
   "execution_count": 11,
   "metadata": {
    "pycharm": {
     "name": "#%%\n"
    }
   },
   "outputs": [
    {
     "data": {
      "text/plain": "1000"
     },
     "execution_count": 11,
     "metadata": {},
     "output_type": "execute_result"
    }
   ],
   "source": [
    "agent1 = ModelReflexAgent(\"Agent1\")\n",
    "environment(agent1.act,1000, 10, False)"
   ]
  },
  {
   "cell_type": "code",
   "execution_count": 18,
   "metadata": {
    "pycharm": {
     "name": "#%%\n"
    }
   },
   "outputs": [
    {
     "data": {
      "text/plain": "112"
     },
     "execution_count": 18,
     "metadata": {},
     "output_type": "execute_result"
    }
   ],
   "source": [
    "agent2 = ModelReflexAgent2(\"Agent2\")\n",
    "environment(agent2.act,10000, 10, False)"
   ]
  },
  {
   "cell_type": "markdown",
   "metadata": {
    "pycharm": {
     "name": "#%% md\n"
    }
   },
   "source": [
    "## Task 4: Simulation study [30 Points]\n",
    "\n",
    "Compare the performance (the performance measure is defined in the PEAS description above) of the agents using  environments of different size. E.g., $5 \\times 5$, $10 \\times 10$ and\n",
    "$100 \\times 100$. Use 100 random runs for each. Present the results using tables and graphs. Discuss the differences between the agents. \n",
    "([Help with charts and tables in Python](https://github.com/mhahsler/CS7320-AI/blob/master/Python_Code_Examples/charts_and_tables.ipynb))"
   ]
  },
  {
   "cell_type": "code",
   "execution_count": 133,
   "outputs": [
    {
     "ename": "KeyboardInterrupt",
     "evalue": "",
     "output_type": "error",
     "traceback": [
      "\u001B[0;31m---------------------------------------------------------------------------\u001B[0m",
      "\u001B[0;31mKeyboardInterrupt\u001B[0m                         Traceback (most recent call last)",
      "Cell \u001B[0;32mIn [133], line 11\u001B[0m\n\u001B[1;32m      8\u001B[0m tenResRelfex \u001B[38;5;241m=\u001B[39m [environment(reflex_agent, stepCount, \u001B[38;5;241m10\u001B[39m, \u001B[38;5;28;01mFalse\u001B[39;00m) \u001B[38;5;28;01mfor\u001B[39;00m i \u001B[38;5;129;01min\u001B[39;00m \u001B[38;5;28mrange\u001B[39m(\u001B[38;5;241m0\u001B[39m,\u001B[38;5;241m100\u001B[39m)]\n\u001B[1;32m      9\u001B[0m hunnaResReflex \u001B[38;5;241m=\u001B[39m [environment(reflex_agent, stepCount, \u001B[38;5;241m100\u001B[39m, \u001B[38;5;28;01mFalse\u001B[39;00m) \u001B[38;5;28;01mfor\u001B[39;00m i \u001B[38;5;129;01min\u001B[39;00m \u001B[38;5;28mrange\u001B[39m(\u001B[38;5;241m0\u001B[39m,\u001B[38;5;241m100\u001B[39m)]\n\u001B[0;32m---> 11\u001B[0m fiveResAgent1 \u001B[38;5;241m=\u001B[39m [environment(agent1\u001B[38;5;241m.\u001B[39mact, stepCount, \u001B[38;5;241m5\u001B[39m, \u001B[38;5;28;01mFalse\u001B[39;00m) \u001B[38;5;28;01mfor\u001B[39;00m i \u001B[38;5;129;01min\u001B[39;00m \u001B[38;5;28mrange\u001B[39m(\u001B[38;5;241m0\u001B[39m,\u001B[38;5;241m100\u001B[39m)]\n\u001B[1;32m     12\u001B[0m tenResAgent1  \u001B[38;5;241m=\u001B[39m [environment(agent1\u001B[38;5;241m.\u001B[39mact, stepCount, \u001B[38;5;241m10\u001B[39m, \u001B[38;5;28;01mFalse\u001B[39;00m) \u001B[38;5;28;01mfor\u001B[39;00m i \u001B[38;5;129;01min\u001B[39;00m \u001B[38;5;28mrange\u001B[39m(\u001B[38;5;241m0\u001B[39m,\u001B[38;5;241m100\u001B[39m)]\n\u001B[1;32m     13\u001B[0m hunnaResAgent1  \u001B[38;5;241m=\u001B[39m [environment(agent1\u001B[38;5;241m.\u001B[39mact, stepCount, \u001B[38;5;241m100\u001B[39m, \u001B[38;5;28;01mFalse\u001B[39;00m) \u001B[38;5;28;01mfor\u001B[39;00m i \u001B[38;5;129;01min\u001B[39;00m \u001B[38;5;28mrange\u001B[39m(\u001B[38;5;241m0\u001B[39m,\u001B[38;5;241m100\u001B[39m)]\n",
      "Cell \u001B[0;32mIn [133], line 11\u001B[0m, in \u001B[0;36m<listcomp>\u001B[0;34m(.0)\u001B[0m\n\u001B[1;32m      8\u001B[0m tenResRelfex \u001B[38;5;241m=\u001B[39m [environment(reflex_agent, stepCount, \u001B[38;5;241m10\u001B[39m, \u001B[38;5;28;01mFalse\u001B[39;00m) \u001B[38;5;28;01mfor\u001B[39;00m i \u001B[38;5;129;01min\u001B[39;00m \u001B[38;5;28mrange\u001B[39m(\u001B[38;5;241m0\u001B[39m,\u001B[38;5;241m100\u001B[39m)]\n\u001B[1;32m      9\u001B[0m hunnaResReflex \u001B[38;5;241m=\u001B[39m [environment(reflex_agent, stepCount, \u001B[38;5;241m100\u001B[39m, \u001B[38;5;28;01mFalse\u001B[39;00m) \u001B[38;5;28;01mfor\u001B[39;00m i \u001B[38;5;129;01min\u001B[39;00m \u001B[38;5;28mrange\u001B[39m(\u001B[38;5;241m0\u001B[39m,\u001B[38;5;241m100\u001B[39m)]\n\u001B[0;32m---> 11\u001B[0m fiveResAgent1 \u001B[38;5;241m=\u001B[39m [\u001B[43menvironment\u001B[49m\u001B[43m(\u001B[49m\u001B[43magent1\u001B[49m\u001B[38;5;241;43m.\u001B[39;49m\u001B[43mact\u001B[49m\u001B[43m,\u001B[49m\u001B[43m \u001B[49m\u001B[43mstepCount\u001B[49m\u001B[43m,\u001B[49m\u001B[43m \u001B[49m\u001B[38;5;241;43m5\u001B[39;49m\u001B[43m,\u001B[49m\u001B[43m \u001B[49m\u001B[38;5;28;43;01mFalse\u001B[39;49;00m\u001B[43m)\u001B[49m \u001B[38;5;28;01mfor\u001B[39;00m i \u001B[38;5;129;01min\u001B[39;00m \u001B[38;5;28mrange\u001B[39m(\u001B[38;5;241m0\u001B[39m,\u001B[38;5;241m100\u001B[39m)]\n\u001B[1;32m     12\u001B[0m tenResAgent1  \u001B[38;5;241m=\u001B[39m [environment(agent1\u001B[38;5;241m.\u001B[39mact, stepCount, \u001B[38;5;241m10\u001B[39m, \u001B[38;5;28;01mFalse\u001B[39;00m) \u001B[38;5;28;01mfor\u001B[39;00m i \u001B[38;5;129;01min\u001B[39;00m \u001B[38;5;28mrange\u001B[39m(\u001B[38;5;241m0\u001B[39m,\u001B[38;5;241m100\u001B[39m)]\n\u001B[1;32m     13\u001B[0m hunnaResAgent1  \u001B[38;5;241m=\u001B[39m [environment(agent1\u001B[38;5;241m.\u001B[39mact, stepCount, \u001B[38;5;241m100\u001B[39m, \u001B[38;5;28;01mFalse\u001B[39;00m) \u001B[38;5;28;01mfor\u001B[39;00m i \u001B[38;5;129;01min\u001B[39;00m \u001B[38;5;28mrange\u001B[39m(\u001B[38;5;241m0\u001B[39m,\u001B[38;5;241m100\u001B[39m)]\n",
      "Cell \u001B[0;32mIn [72], line 35\u001B[0m, in \u001B[0;36menvironment\u001B[0;34m(agent, max_steps, roomSize, verbose)\u001B[0m\n\u001B[1;32m     32\u001B[0m \u001B[38;5;28;01mif\u001B[39;00m position\u001B[38;5;241m%\u001B[39mroomSize \u001B[38;5;241m-\u001B[39m (roomSize\u001B[38;5;241m-\u001B[39m\u001B[38;5;241m1\u001B[39m) \u001B[38;5;241m==\u001B[39m \u001B[38;5;241m0\u001B[39m: bumpers[\u001B[38;5;124m'\u001B[39m\u001B[38;5;124meast\u001B[39m\u001B[38;5;124m'\u001B[39m] \u001B[38;5;241m=\u001B[39m \u001B[38;5;28;01mTrue\u001B[39;00m\n\u001B[1;32m     33\u001B[0m \u001B[38;5;28;01mif\u001B[39;00m ((roomSize\u001B[38;5;241m*\u001B[39mroomSize) \u001B[38;5;241m-\u001B[39m roomSize) \u001B[38;5;241m<\u001B[39m\u001B[38;5;241m=\u001B[39m position \u001B[38;5;241m<\u001B[39m roomSize\u001B[38;5;241m*\u001B[39mroomSize: bumpers[\u001B[38;5;124m'\u001B[39m\u001B[38;5;124msouth\u001B[39m\u001B[38;5;124m'\u001B[39m] \u001B[38;5;241m=\u001B[39m \u001B[38;5;28;01mTrue\u001B[39;00m\n\u001B[0;32m---> 35\u001B[0m action \u001B[38;5;241m=\u001B[39m \u001B[43magent\u001B[49m\u001B[43m(\u001B[49m\u001B[43mbumpers\u001B[49m\u001B[43m,\u001B[49m\u001B[43m \u001B[49m\u001B[43mroom\u001B[49m\u001B[43m[\u001B[49m\u001B[43mposition\u001B[49m\u001B[43m]\u001B[49m\u001B[38;5;241;43m.\u001B[39;49m\u001B[43mdirty\u001B[49m\u001B[43m)\u001B[49m\n\u001B[1;32m     36\u001B[0m \u001B[38;5;28;01mif\u001B[39;00m verbose: \u001B[38;5;28mprint\u001B[39m(\u001B[38;5;124m\"\u001B[39m\u001B[38;5;124mstep\u001B[39m\u001B[38;5;124m\"\u001B[39m, i, \u001B[38;5;124m\"\u001B[39m\u001B[38;5;124m- action:\u001B[39m\u001B[38;5;124m\"\u001B[39m, action, \u001B[38;5;124m\"\u001B[39m\u001B[38;5;124mat position: \u001B[39m\u001B[38;5;124m\"\u001B[39m, position)\n\u001B[1;32m     38\u001B[0m \u001B[38;5;66;03m# I forgot to check if the tile was actually dirty in the first place.\u001B[39;00m\n\u001B[1;32m     39\u001B[0m \u001B[38;5;66;03m#  Random was outperforming by so much. because it wasnt actually cleaning\u001B[39;00m\n",
      "Cell \u001B[0;32mIn [89], line 93\u001B[0m, in \u001B[0;36mModelReflexAgent.act\u001B[0;34m(self, bumpers, dirty)\u001B[0m\n\u001B[1;32m     91\u001B[0m         \u001B[38;5;28;01mreturn\u001B[39;00m \u001B[38;5;124m\"\u001B[39m\u001B[38;5;124mwest\u001B[39m\u001B[38;5;124m\"\u001B[39m\n\u001B[1;32m     92\u001B[0m \u001B[38;5;28;01mif\u001B[39;00m \u001B[38;5;28mself\u001B[39m\u001B[38;5;241m.\u001B[39mdirection \u001B[38;5;241m==\u001B[39m \u001B[38;5;124m'\u001B[39m\u001B[38;5;124mE\u001B[39m\u001B[38;5;124m'\u001B[39m:\n\u001B[0;32m---> 93\u001B[0m     \u001B[38;5;28;01mif\u001B[39;00m \u001B[38;5;28mself\u001B[39m\u001B[38;5;241m.\u001B[39mposition \u001B[38;5;241m+\u001B[39m \u001B[38;5;28mself\u001B[39m\u001B[38;5;241m.\u001B[39mxLength \u001B[38;5;129;01mnot\u001B[39;00m \u001B[38;5;129;01min\u001B[39;00m \u001B[38;5;28mself\u001B[39m\u001B[38;5;241m.\u001B[39mpast_states \u001B[38;5;129;01mand\u001B[39;00m \u001B[38;5;129;01mnot\u001B[39;00m bumpers[\u001B[38;5;124m'\u001B[39m\u001B[38;5;124msouth\u001B[39m\u001B[38;5;124m'\u001B[39m]:\n\u001B[1;32m     94\u001B[0m         \u001B[38;5;28mself\u001B[39m\u001B[38;5;241m.\u001B[39mposition \u001B[38;5;241m+\u001B[39m\u001B[38;5;241m=\u001B[39m \u001B[38;5;28mself\u001B[39m\u001B[38;5;241m.\u001B[39mxLength\n\u001B[1;32m     95\u001B[0m         \u001B[38;5;28mself\u001B[39m\u001B[38;5;241m.\u001B[39mpast_states\u001B[38;5;241m.\u001B[39mappend(\u001B[38;5;28mself\u001B[39m\u001B[38;5;241m.\u001B[39mposition)\n",
      "\u001B[0;31mKeyboardInterrupt\u001B[0m: "
     ]
    }
   ],
   "source": [
    "stepCount = 10000\n",
    "\n",
    "fiveResRandom = [environment(simple_randomized_agent, stepCount, 5, False) for i in range(0,100)]\n",
    "tenResRandom = [environment(simple_randomized_agent, stepCount, 10, False) for i in range(0,100)]\n",
    "hunnaResRandom = [environment(simple_randomized_agent, stepCount, 100, False) for i in range(0,100)]\n",
    "\n",
    "fiveResReflex = [environment(reflex_agent, stepCount, 5, False) for i in range(0,100)]\n",
    "tenResRelfex = [environment(reflex_agent, stepCount, 10, False) for i in range(0,100)]\n",
    "hunnaResReflex = [environment(reflex_agent, stepCount, 100, False) for i in range(0,100)]\n",
    "\n",
    "fiveResAgent1 = [environment(agent1.act, stepCount, 5, False) for i in range(0,100)]\n",
    "tenResAgent1  = [environment(agent1.act, stepCount, 10, False) for i in range(0,100)]\n",
    "hunnaResAgent1  = [environment(agent1.act, stepCount, 100, False) for i in range(0,100)]\n",
    "\n",
    "fiveResAgent2 = [environment(agent2.act, stepCount, 5, False) for i in range(0,100)]\n",
    "tenResAgent2  = [environment(agent2.act, stepCount, 10, False) for i in range(0,100)]\n",
    "hunnaResAgent2  = [environment(agent2.act, stepCount, 100, False) for i in range(0,100)]"
   ],
   "metadata": {
    "collapsed": false,
    "pycharm": {
     "name": "#%%\n"
    }
   }
  },
  {
   "cell_type": "code",
   "execution_count": 31,
   "outputs": [
    {
     "data": {
      "text/plain": "[10000,\n 10000,\n 10000,\n 10000,\n 10000,\n 10000,\n 10000,\n 10000,\n 10000,\n 10000,\n 10000,\n 10000,\n 10000,\n 10000,\n 10000,\n 10000,\n 10000,\n 10000,\n 105,\n 10000]"
     },
     "execution_count": 31,
     "metadata": {},
     "output_type": "execute_result"
    }
   ],
   "source": [
    "hunnaResAgent1 = [environment(agent2.act, 10000, 10, False) for i in range(0,20)]\n",
    "hunnaResAgent1"
   ],
   "metadata": {
    "collapsed": false,
    "pycharm": {
     "name": "#%%\n"
    }
   }
  },
  {
   "cell_type": "code",
   "execution_count": 25,
   "outputs": [
    {
     "data": {
      "text/plain": "10000"
     },
     "execution_count": 25,
     "metadata": {},
     "output_type": "execute_result"
    }
   ],
   "source": [
    "environment(agent1.act, 10000, 20, False)"
   ],
   "metadata": {
    "collapsed": false,
    "pycharm": {
     "name": "#%%\n"
    }
   }
  },
  {
   "cell_type": "code",
   "execution_count": 132,
   "metadata": {
    "pycharm": {
     "name": "#%%\n"
    }
   },
   "outputs": [
    {
     "name": "stdout",
     "output_type": "stream",
     "text": [
      "Average moves for 5x5 random:  434.3\n",
      "Average moves for 5x5 reflex:  955.92\n",
      "Average moves for 5x5 model1:  1149.36\n",
      "Average moves for 5x5 model2:  1248.98\n",
      "Average moves for 10x10 random:  3177.72\n",
      "Average moves for 10x10 reflex:  1011.21\n",
      "Average moves for 10x10 model1:  1448.59\n",
      "Average moves for 10x10 model2:  1348.72\n",
      "Average moves for 100x100 random:  1448.59\n",
      "Average moves for 100x100 reflex:  1448.59\n",
      "Average moves for 100x100 model1:  1348.72\n",
      "Average moves for 100x100 model2:  1348.72\n"
     ]
    }
   ],
   "source": [
    "print(\"Average moves for 5x5 random: \",np.mean(fiveResRandom))\n",
    "print(\"Average moves for 5x5 reflex: \",np.mean(fiveResReflex))\n",
    "print(\"Average moves for 5x5 model1: \",np.mean(fiveResAgent1))\n",
    "print(\"Average moves for 5x5 model2: \",np.mean(fiveResAgent2))\n",
    "\n",
    "print(\"Average moves for 10x10 random: \",np.mean(tenResRandom))\n",
    "print(\"Average moves for 10x10 reflex: \",np.mean(tenResRelfex)) # oops\n",
    "print(\"Average moves for 10x10 model1: \",np.mean(tenResAgent1))\n",
    "print(\"Average moves for 10x10 model2: \",np.mean(tenResAgent2))\n",
    "\n",
    "print(\"Average moves for 100x100 random: \",np.mean(hunnaResRandom))\n",
    "print(\"Average moves for 100x100 reflex: \",np.mean(hunnaResReflex))\n",
    "print(\"Average moves for 100x100 model1: \",np.mean(hunnaResAgent1))\n",
    "print(\"Average moves for 100x100 model2: \",np.mean(hunnaResAgent2))"
   ]
  },
  {
   "cell_type": "markdown",
   "metadata": {
    "pycharm": {
     "name": "#%% md\n"
    }
   },
   "source": [
    "Fill out the following table with the average performance measure for 100 random runs (you may also create this table with code):\n",
    "\n",
    "| Size     | Randomized Agent | Simple Reflex Agent | Model-based Reflex Agent |\n",
    "|----------|------------------|---------------------|--------------------------|\n",
    "| 5x5     | 0.5              | 1.81                | 2.42                     |\n",
    "| 10x10   | 0.6              | 2.05                | 3.22                     |\n",
    "| 100x100 | 0.54             | 2.3                 | 3.42                     |\n",
    "\n",
    "Add charts to compare the performance of the different agents."
   ]
  },
  {
   "cell_type": "code",
   "execution_count": 149,
   "metadata": {
    "pycharm": {
     "name": "#%%\n"
    }
   },
   "outputs": [
    {
     "data": {
      "image/png": "[encoded data removed]",
      "text/plain": [
       "<Figure size 640x480 with 1 Axes>"
      ]
     },
     "metadata": {},
     "output_type": "display_data"
    },
    {
     "data": {
      "text/plain": [
       "<Figure size 300x1000 with 0 Axes>"
      ]
     },
     "metadata": {},
     "output_type": "display_data"
    }
   ],
   "source": [
    "import matplotlib.pyplot as plt\n",
    "base = np.arange(1, 101, dtype = np.uint32 )\n",
    "\n",
    "plt.plot(base, fiveResRandom, label = \"Random\")\n",
    "plt.plot(base, fiveResReflex, label = \"Reflex\")\n",
    "plt.plot(base, fiveResAgent1, label = \"Model 1\")\n",
    "plt.plot(base, fiveResAgent2, label = \"Model 2\")\n",
    "plt.legend()\n",
    "plt.title(\"Trails in the 5x5\")\n",
    "plt.figure(figsize=(3, 10))\n",
    "plt.show()\n",
    "\n",
    "# This is an awful chart. I'm sorry you have to look at it. However, it does show the huge variance in each run and the performance of each model.\n",
    "# I will not plot each size but its still kinda cool to see"
   ]
  },
  {
   "cell_type": "code",
   "execution_count": 144,
   "metadata": {
    "pycharm": {
     "name": "#%%\n"
    }
   },
   "outputs": [
    {
     "data": {
      "image/png": "[encoded data removed]",
      "text/plain": [
       "<Figure size 640x480 with 1 Axes>"
      ]
     },
     "metadata": {},
     "output_type": "display_data"
    }
   ],
   "source": [
    "labels = ['5x5', '10x10', '100x100']\n",
    "rand_means = [0.5, 0.6, 0.54]\n",
    "reflex_means = [1.81, 2.05, 2.3]\n",
    "model1_means = [2.37,2.81,3.43]\n",
    "model2_means = [2.42,3.22,3.42]\n",
    "\n",
    "x = np.arange(len(labels))  # the label locations\n",
    "width = 0.2  # the width of the bars\n",
    "\n",
    "fig, ax = plt.subplots()\n",
    "rects1 = ax.bar(x - width*1.5, rand_means, width, label='Random')\n",
    "rects2 = ax.bar(x - width/2, reflex_means, width, label='Reflex')\n",
    "rects3 = ax.bar(x + width*1.5, model1_means, width, label='Model 1')\n",
    "rects4 = ax.bar(x + width/2, model2_means, width, label='Model 2')\n",
    "\n",
    "# Add some text for labels, title and custom x-axis tick labels, etc.\n",
    "ax.set_ylabel('Average Score')\n",
    "ax.set_title('Scores by Agent Type and Room Size')\n",
    "ax.set_xticks(x, labels)\n",
    "ax.legend()\n",
    "\n",
    "ax.bar_label(rects1, padding=115)\n",
    "ax.bar_label(rects2, padding=45)\n",
    "ax.bar_label(rects3, padding=45)\n",
    "ax.bar_label(rects4, padding=45)\n",
    "\n",
    "plt.show()"
   ]
  },
  {
   "cell_type": "markdown",
   "metadata": {
    "pycharm": {
     "name": "#%% md\n"
    }
   },
   "source": [
    "## Task 5: Robustness of the agent implementations [10 Points] \n",
    "\n",
    "Describe how **your agent implementations** will perform \n",
    "\n",
    "* if it is put into a rectangular room with unknown size, \n",
    "* if the cleaning area can have an iregular shape (e.g., a hallway connecting two rooms), or \n",
    "* if the room contains obstacles (i.e., squares that it cannot pass through and trigger the bumper sensors)."
   ]
  },
  {
   "cell_type": "markdown",
   "metadata": {
    "pycharm": {
     "name": "#%% md\n"
    }
   },
   "source": [
    "The agents already operate in a room of unknown size, so performance will be the same regardless.\n",
    "However, agent 1 determines the size of the room while it is orienting itself, so regardless of the rooms size it will be able to determine its location accurately. Thus, a room of irregular size will still not inhibit it.\n",
    "\n",
    "If the room were to contain obstacles both programs would mistake these objects as walls. If these objects were on the perimeter for agent 1, the agent would mistake the size of the room and incorrectly determine location + visited squares."
   ]
  },
  {
   "cell_type": "markdown",
   "metadata": {
    "pycharm": {
     "name": "#%% md\n"
    }
   },
   "source": [
    "## Graduate student advanced task: Obstacles [10 Points]\n",
    "\n",
    "__Undergraduate students:__ This is a bonus task you can attempt if you like [+5 Bonus Points].\n",
    "\n",
    "1. Change your simulation environment tor run experiments for the following problem: Add random obstacle squares that also trigger the bumper sensor. The agent does not know where the obstacles are. Observe how this changes the performance of the three implementations.\n",
    "\n",
    "2. Describe what would need to be done to perform better with obstacles. Add code if you can. "
   ]
  },
  {
   "cell_type": "code",
   "execution_count": 98,
   "metadata": {
    "pycharm": {
     "name": "#%%\n"
    }
   },
   "outputs": [],
   "source": [
    "# Adding objects to the environment should be simple, as the tile object already keeps track of it.\n",
    "# The Tile should have an object on it in a similar manner to it being dirty but have the chance be much smaller\n",
    "\n",
    "def environmentWithObjects(agent, max_steps, roomSize, verbose = True):\n",
    "    num_cleaned = 0\n",
    "    total_dirty = 0\n",
    "    room = []\n",
    "    for i in range (0, roomSize*roomSize): # Creates the room and initializes all the dirty tiles\n",
    "        dirt = False\n",
    "        if random.randint(0,100) < 20:\n",
    "            dirt = True\n",
    "            total_dirty += 1\n",
    "        room.append( Tile(i, dirt, False, False) )\n",
    "        if random.randint(0,100) <= 5: # this simple addition should add objects to the floor occasionally\n",
    "            room[i].object = True\n",
    "\n",
    "    # initialize the agents position\n",
    "    position = random.randint(0, roomSize*roomSize-1)\n",
    "    room[position].hasRobot = True # Technically the robot can spawn inside an object. Whatever tho\n",
    "\n",
    "    for i in range(max_steps):\n",
    "        walls = False\n",
    "        if total_dirty == 0: return num_cleaned # early breaking condition\n",
    "\n",
    "        # determines if the position is against a wall, check for the walls first to make sure not out of bounds\n",
    "        bumpers = {\"north\" : False, \"south\" : False, \"west\" : False, \"east\" : False}\n",
    "\n",
    "        if 0 <= position < roomSize: bumpers['north'] = True # update the bumper according to position\n",
    "        if position%roomSize == 0:bumpers['west'] = True # complicated but it works trust me\n",
    "        if position%roomSize - (roomSize-1) == 0: bumpers['east'] = True\n",
    "        if ((roomSize*roomSize) - roomSize) <= position < roomSize*roomSize: bumpers['south'] = True\n",
    "\n",
    "        if not bumpers[\"west\"]: # have to do this or else out-of-bounds errors thrown\n",
    "            if room[position-1].object: bumpers['west'] = True\n",
    "\n",
    "        if not bumpers[\"east\"]:\n",
    "            if room[position+1].object: bumpers['east'] = True\n",
    "\n",
    "        if not bumpers[\"south\"]:\n",
    "            if room[position+roomSize].object: bumpers['south'] = True\n",
    "\n",
    "        if not bumpers[\"north\"]:\n",
    "            if room[position-roomSize].object: bumpers['north'] = True\n",
    "\n",
    "\n",
    "        action = agent(bumpers, room[position].dirty)\n",
    "        if verbose: print(\"step\", i, \"- action:\", action, \"at position: \", position)\n",
    "\n",
    "        # I forgot to check if the tile was actually dirty in the first place.\n",
    "        #  Random was outperforming by so much. because it wasnt actually cleaning\n",
    "        if action == \"suck\":\n",
    "            if room[position].dirty:\n",
    "                num_cleaned += 1\n",
    "                total_dirty -= 1\n",
    "                room[position].dirty = False\n",
    "\n",
    "        if action == \"north\":\n",
    "            if not bumpers['north']:\n",
    "                room[position].hasRobot = False\n",
    "                position -=roomSize # going 'up' means the index is changed by n in a 1D array\n",
    "                room[position].hasRobot = True\n",
    "\n",
    "        elif action == \"east\":\n",
    "            if not bumpers['east']:\n",
    "                room[position].hasRobot = False\n",
    "                position +=1\n",
    "                room[position].hasRobot = True\n",
    "\n",
    "        elif action == \"west\":\n",
    "            if not bumpers['west']:\n",
    "                room[position].hasRobot = False\n",
    "                position -=1\n",
    "                room[position].hasRobot = True\n",
    "\n",
    "        elif action == \"south\":\n",
    "            if not bumpers['south']:\n",
    "                room[position].hasRobot = False\n",
    "                position +=roomSize\n",
    "                room[position].hasRobot = True\n",
    "\n",
    "    return num_cleaned\n"
   ]
  },
  {
   "cell_type": "code",
   "execution_count": 117,
   "metadata": {
    "pycharm": {
     "name": "#%%\n"
    }
   },
   "outputs": [
    {
     "name": "stdout",
     "output_type": "stream",
     "text": [
      "step 0 - action: suck at position:  13\n",
      "step 1 - action: south at position:  13\n",
      "step 2 - action: south at position:  18\n",
      "step 3 - action: east at position:  23\n",
      "step 4 - action: north at position:  24\n",
      "step 5 - action: north at position:  19\n",
      "step 6 - action: north at position:  14\n",
      "step 7 - action: north at position:  9\n",
      "step 8 - action: east at position:  4\n",
      "step 9 - action: east at position:  4\n",
      "step 10 - action: east at position:  4\n",
      "step 11 - action: east at position:  4\n",
      "step 12 - action: east at position:  4\n",
      "step 13 - action: east at position:  4\n",
      "step 14 - action: south at position:  4\n",
      "step 15 - action: south at position:  9\n",
      "step 16 - action: south at position:  14\n",
      "step 17 - action: south at position:  19\n",
      "step 18 - action: east at position:  24\n",
      "step 19 - action: north at position:  24\n"
     ]
    },
    {
     "data": {
      "text/plain": [
       "1"
      ]
     },
     "execution_count": 117,
     "metadata": {},
     "output_type": "execute_result"
    }
   ],
   "source": [
    "environmentWithObjects(agent1.act, 20, 5, True)"
   ]
  },
  {
   "cell_type": "code",
   "execution_count": 105,
   "metadata": {
    "pycharm": {
     "name": "#%%\n"
    }
   },
   "outputs": [
    {
     "name": "stdout",
     "output_type": "stream",
     "text": [
      "average for agent 1 size 5 with objects:  2.01\n",
      "average for agent 2 size 5 with objects:  1.72\n",
      "average for agent 1 size 10 with objects:  2.41\n",
      "average for agent 2 size 10 with objects:  3.18\n",
      "average for agent 1 size 100 with objects:  3.13\n",
      "average for agent 2 size 100 with objects:  3.32\n"
     ]
    }
   ],
   "source": [
    "fiveResModel_wOBJ = np.arange(0, 100, dtype = np.uint32 )\n",
    "tenResModel_wOBJ = np.arange(0, 100, dtype = np.uint32 )\n",
    "hunnaResModel_wOBJ = np.arange(0, 100, dtype = np.uint32 )\n",
    "\n",
    "fiveResModel2_wOBJ = np.arange(0, 100, dtype = np.uint32 )\n",
    "tenResModel2_wOBJ = np.arange(0, 100, dtype = np.uint32 )\n",
    "hunnaResModel2_wOBJ = np.arange(0, 100, dtype = np.uint32 )\n",
    "\n",
    "for i in range(0,100):\n",
    "    fiveResModel_wOBJ[i] = (environmentWithObjects(agent1.act, stepCount, 5, False))\n",
    "    tenResModel_wOBJ[i] = (environmentWithObjects(agent1.act, stepCount, 10, False))\n",
    "    hunnaResModel_wOBJ[i] = (environmentWithObjects(agent1.act, stepCount, 100, False))\n",
    "\n",
    "    # the second agent outperforms the first one\n",
    "    fiveResModel2_wOBJ[i] = (environmentWithObjects(agent2.act, stepCount, 5, False))\n",
    "    tenResModel2_wOBJ[i] = (environmentWithObjects(agent2.act, stepCount, 10, False))\n",
    "    hunnaResModel2_wOBJ[i] = (environmentWithObjects(agent2.act, stepCount, 100, False))\n",
    "\n",
    "print(\"average for agent 1 size 5 with objects: \", np.mean(fiveResModel_wOBJ))\n",
    "print(\"average for agent 2 size 5 with objects: \",np.mean(fiveResModel2_wOBJ))\n",
    "print(\"average for agent 1 size 10 with objects: \",np.mean(tenResModel_wOBJ))\n",
    "print(\"average for agent 2 size 10 with objects: \",np.mean(tenResModel2_wOBJ))\n",
    "print(\"average for agent 1 size 100 with objects: \",np.mean(hunnaResModel_wOBJ))\n",
    "print(\"average for agent 2 size 100 with objects: \",np.mean(hunnaResModel2_wOBJ))"
   ]
  },
  {
   "cell_type": "markdown",
   "metadata": {
    "pycharm": {
     "name": "#%% md\n"
    }
   },
   "source": [
    "Surprisingly both agents perform well in the obstacle environment despite clear bugs in the code. When analyzing the first agent with orientation, it seems that the agent will detect the object but incorrectly label it as a boundary for the room.\n",
    "\n",
    "To improve model 1, during orientation if a bumper is activated it should try to circle around and determine if it's a wall or an object. After going 3 places further if a gap in the object is not found, then it should continue forward as the program currently is. This way, the dimensions of the room are found and the agent will be able to tell in the future if an object it runs into is a wall or not. If one of these objects are found, the agent should mark the location as visited, and try to circle around it."
   ]
  },
  {
   "cell_type": "markdown",
   "metadata": {
    "pycharm": {
     "name": "#%% md\n"
    }
   },
   "source": [
    "## More advanced implementation tasks\n",
    "\n",
    "* __Agent for and environment with obstacles:__ Implement an agent for an environment where the agent does not know how large the environment is (we assume it is rectangular), where it starts or where the obstacles are. An option would be to always move to the closest unchecked/uncleaned square (note that this is actualy depth-first search).\n",
    "\n",
    "* __Utility-based agent:__ Change the environment for a $5 \\times 5$ room, so each square has a fixed probability of getting dirty again. For the implementation, we give the environment a 2-dimensional array of probabilities. The utility of a state is defined as the number of currebntly clean squares in the room. Implement a utility-based agent that maximizes the expected utility over one full charge which lasts for 100000 time steps. To do this, the agent needs to learn the probabilities with which different squares get dirty again. This is very tricky!"
   ]
  },
  {
   "cell_type": "code",
   "execution_count": 13,
   "metadata": {
    "pycharm": {
     "name": "#%%\n"
    }
   },
   "outputs": [],
   "source": [
    "# Your ideas/code"
   ]
  }
 ],
 "metadata": {
  "kernelspec": {
   "display_name": "Python 3 (ipykernel)",
   "language": "python",
   "name": "python3"
  },
  "language_info": {
   "codemirror_mode": {
    "name": "ipython",
    "version": 3
   },
   "file_extension": ".py",
   "mimetype": "text/x-python",
   "name": "python",
   "nbconvert_exporter": "python",
   "pygments_lexer": "ipython3",
   "version": "3.10.6"
  },
  "toc-autonumbering": false
 },
 "nbformat": 4,
 "nbformat_minor": 4
}